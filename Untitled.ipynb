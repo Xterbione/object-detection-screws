{
 "cells": [
  {
   "cell_type": "markdown",
   "id": "2b0e913f",
   "metadata": {},
   "source": [
    "het bestand om te testen of je alle pakketen hebt geinstalleerd."
   ]
  },
  {
   "cell_type": "code",
   "execution_count": 5,
   "id": "cf31ca31",
   "metadata": {},
   "outputs": [
    {
     "name": "stdout",
     "output_type": "stream",
     "text": [
      "[4, 4, 4, 4, 4, 4, 4, 4, 4, 4, 4, 16, 16, 16, 16, 16, 16, 16, 16, 36, 36, 36, 36, 36, 36, 36, 36, 64, 64, 64, 64, 64, 64, 64, 64, 64, 64, 64, 64, 100, 100, 100, 100, 100, 100, 100, 100, 100, 100, 100, 100]\n"
     ]
    }
   ],
   "source": [
    "import math\n",
    "import random\n",
    "\n",
    "## return: xs in oplopende volgorde gesorteerd\n",
    "def invoegsorteren(xs):\n",
    "    res = []\n",
    "    for x in xs:\n",
    "        res = invoegen(x, res)\n",
    "    return res\n",
    "\n",
    "def test_invoegsorteren():\n",
    "    return invoegsorteren([2, 1, 2, 5, 3]) == [1, 2, 2, 3, 5]\n",
    "\n",
    "## xs is gesorteerd\n",
    "## return: xs met daaraan toegevoegd x op de goede plaats\n",
    "def invoegen(x, xs):\n",
    "    length = len(xs)\n",
    "    res = []\n",
    "    k = 0\n",
    "    while k < length and x >= xs[k]:\n",
    "        res.append(xs[k])\n",
    "        k += 1\n",
    "    res.append(x)\n",
    "    while k < length:\n",
    "        res.append(xs[k])\n",
    "        k += 1\n",
    "    return res\n",
    "\n",
    "def test_invoegen():\n",
    "    return invoegen(4, [1, 3, 7, 8]) == [1 ,3, 4, 7, 8]\n",
    "\n",
    "def invoegsorteren2(xs):\n",
    "    xs.sort();\n",
    "    return xs\n",
    "\n",
    "def invoegen2(x, xs):\n",
    "    length = len(xs)\n",
    "    for k in range(length):\n",
    "        if x < xs[k]:\n",
    "            return xs[:k] + [x] + xs[k:]\n",
    "    return xs + [x]\n",
    "\n",
    "def test_random():\n",
    "    getallen      = [random.randint(1, 10) for _ in range(100)]\n",
    "    kwadraten     = [x**2                  for x in getallen]\n",
    "    evenkwadraten = [x                     for x in kwadraten if x % 2 == 0]\n",
    "    return invoegsorteren(evenkwadraten)\n",
    "\n",
    "## wordt direct uitgevoerd\n",
    "print(test_random())"
   ]
  },
  {
   "cell_type": "code",
   "execution_count": 12,
   "id": "5ee8398a",
   "metadata": {},
   "outputs": [
    {
     "name": "stdout",
     "output_type": "stream",
     "text": [
      "np\n",
      "1.23.5\n",
      "cv2\n"
     ]
    },
    {
     "data": {
      "text/plain": [
       "'4.7.0'"
      ]
     },
     "execution_count": 12,
     "metadata": {},
     "output_type": "execute_result"
    }
   ],
   "source": [
    "import numpy as np\n",
    "import cv2 as cv2\n",
    "print(\"np\")\n",
    "print(np.__version__)\n",
    "print(\"cv2\")\n",
    "cv2.__version__"
   ]
  },
  {
   "cell_type": "code",
   "execution_count": null,
   "id": "049a74a1",
   "metadata": {},
   "outputs": [],
   "source": []
  },
  {
   "cell_type": "code",
   "execution_count": null,
   "id": "c1583214",
   "metadata": {},
   "outputs": [],
   "source": []
  }
 ],
 "metadata": {
  "kernelspec": {
   "display_name": "Python 3 (ipykernel)",
   "language": "python",
   "name": "python3"
  },
  "language_info": {
   "codemirror_mode": {
    "name": "ipython",
    "version": 3
   },
   "file_extension": ".py",
   "mimetype": "text/x-python",
   "name": "python",
   "nbconvert_exporter": "python",
   "pygments_lexer": "ipython3",
   "version": "3.9.16"
  }
 },
 "nbformat": 4,
 "nbformat_minor": 5
}
